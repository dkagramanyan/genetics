{
 "cells": [
  {
   "cell_type": "code",
   "execution_count": 1,
   "metadata": {
    "pycharm": {
     "name": "#%%\n"
    }
   },
   "outputs": [],
   "source": [
    "import numpy as np\n",
    "import pandas as pd\n",
    "import matplotlib.pyplot as plt\n",
    "import math\n"
   ]
  },
  {
   "cell_type": "markdown",
   "metadata": {
    "pycharm": {
     "name": "#%% md\n"
    }
   },
   "source": [
    "### 1) Сгенерировать последовательность σ скрытых состоянийи последовательность ε наблюдений длины L."
   ]
  },
  {
   "cell_type": "code",
   "execution_count": 52,
   "metadata": {
    "pycharm": {
     "name": "#%%\n"
    }
   },
   "outputs": [
    {
     "name": "stdout",
     "output_type": "stream",
     "text": [
      "Transititions probability\n",
      "sum 1.0\t[0.95 0.05]\n",
      "sum 1.0\t[0.1 0.9]\n",
      "--------------------\n",
      "Emissions probabability\n",
      "sum 1.0\t[0.16666667 0.16666667 0.16666667 0.16666667 0.16666667 0.16666667]\n",
      "sum 1.0\t[0.1 0.1 0.1 0.1 0.1 0.5]\n"
     ]
    }
   ],
   "source": [
    "# при М=2 работает\n",
    "M = 2\n",
    "K = 6\n",
    "\n",
    "# np.random.seed(54)\n",
    "\n",
    "transitions_probab = np.zeros((M,M))\n",
    "emissions_probab= np.zeros((M,K))\n",
    "\n",
    "\n",
    "for i in range(M):\n",
    "    # заполним вероятности перехода от одного состояния к другому\n",
    "    st2st_probab = np.random.random(M)\n",
    "    transitions_probab[i] = st2st_probab/st2st_probab.sum()\n",
    "\n",
    "    # для каждого состояния заполним вероятности эмиссий\n",
    "    st2e_probab = np.random.random(K)\n",
    "    emissions_probab[i] = st2e_probab/st2e_probab.sum()\n",
    "\n",
    "transitions_probab[0]=[0.95,0.05]\n",
    "transitions_probab[1]=[0.1,0.9]\n",
    "\n",
    "emissions_probab[0]=[1/6,1/6,1/6,1/6,1/6,1/6]\n",
    "emissions_probab[1]=[0.1,0.1,0.1,0.1,0.1,0.5]\n",
    "\n",
    "print('Transititions probability')\n",
    "for line in transitions_probab:\n",
    "    print(f'sum {round(line.sum(),2)}\\t{line}')\n",
    "print('--------------------')\n",
    "print('Emissions probabability')\n",
    "for line in emissions_probab:\n",
    "    print(f'sum {round(line.sum(),2)}\\t{line}')"
   ]
  },
  {
   "cell_type": "code",
   "execution_count": 53,
   "metadata": {
    "pycharm": {
     "name": "#%%\n"
    }
   },
   "outputs": [],
   "source": [
    "def get_next_state(weights):\n",
    "    return np.random.choice(range(len(weights)),p=weights)\n",
    "\n",
    "\n",
    "def get_hidden_states(begin,transitions_probab,L):\n",
    "    hidden_states=np.zeros((L,),dtype=np.int32)\n",
    "    hidden_states[0]=get_next_state(begin)\n",
    "    for i in range(1,L):\n",
    "        hidden_states[i]=get_next_state(transitions_probab[hidden_states[i-1]])\n",
    "    return hidden_states\n",
    "\n",
    "def get_emissions(hidden_sequence,emissions_probab):\n",
    "    emissions=np.zeros((L,),dtype=np.int32)\n",
    "    for i in range(L):\n",
    "        emissions[i]=get_next_state(emissions_probab[hidden_sequence[i]])\n",
    "    return emissions"
   ]
  },
  {
   "cell_type": "code",
   "execution_count": 58,
   "outputs": [
    {
     "data": {
      "text/plain": "array([1., 1.])"
     },
     "execution_count": 58,
     "metadata": {},
     "output_type": "execute_result"
    }
   ],
   "source": [
    "np.dot(transitions_probab,np.array([1,1]))"
   ],
   "metadata": {
    "collapsed": false,
    "pycharm": {
     "name": "#%%\n"
    }
   }
  },
  {
   "cell_type": "code",
   "execution_count": 56,
   "outputs": [
    {
     "data": {
      "text/plain": "array([1.  , 0.85])"
     },
     "execution_count": 56,
     "metadata": {},
     "output_type": "execute_result"
    }
   ],
   "source": [
    "e"
   ],
   "metadata": {
    "collapsed": false,
    "pycharm": {
     "name": "#%%\n"
    }
   }
  },
  {
   "cell_type": "code",
   "execution_count": 57,
   "outputs": [
    {
     "data": {
      "text/plain": "array([0.70710678, 0.70710678])"
     },
     "execution_count": 57,
     "metadata": {},
     "output_type": "execute_result"
    }
   ],
   "source": [
    "v[:, 0]"
   ],
   "metadata": {
    "collapsed": false,
    "pycharm": {
     "name": "#%%\n"
    }
   }
  },
  {
   "cell_type": "code",
   "execution_count": 55,
   "metadata": {
    "pycharm": {
     "name": "#%%\n"
    }
   },
   "outputs": [
    {
     "name": "stdout",
     "output_type": "stream",
     "text": [
      "[0.5 0.5]\n"
     ]
    },
    {
     "data": {
      "text/plain": "array([3, 3, 0, 1, 5, 3, 0, 3, 3, 5, 5, 3, 2, 5, 5, 3, 5, 3, 5, 5, 3, 0,\n       2, 0, 0, 3, 5, 2, 0, 4, 2, 4, 4, 3, 3, 4, 3, 2, 5, 1, 1, 0, 4, 5,\n       0, 5, 0, 3, 2, 4, 3, 5, 2, 5, 0, 3, 3, 4, 2, 3, 2, 1, 5, 0, 4, 5,\n       2, 5, 5, 1, 1, 1, 1, 1, 3, 5, 3, 1, 1, 4, 3, 1, 4, 1, 4, 0, 5, 3,\n       5, 3, 2, 3, 2, 4, 5, 2, 0, 4, 2, 1, 4, 0, 0, 2, 3, 4, 1, 2, 2, 2,\n       3, 1, 3, 2, 3, 0, 3, 1, 5, 1, 0, 5, 5, 2, 5, 5, 3, 1, 5, 1, 1, 0,\n       3, 2, 2, 2, 2, 1, 2, 1, 1, 3, 0, 3, 5, 3, 5, 1, 4, 5], dtype=int32)"
     },
     "execution_count": 55,
     "metadata": {},
     "output_type": "execute_result"
    }
   ],
   "source": [
    "e, v = np.linalg.eig(transitions_probab)\n",
    "begin = v[:, 0]\n",
    "print(begin)\n",
    "\n",
    "# L = 150\n",
    "L = 150\n",
    "np.random.seed(51)\n",
    "\n",
    "generated_hidden_states=get_hidden_states(begin,transitions_probab,L)\n",
    "generated_emissions=get_emissions(generated_hidden_states,emissions_probab)\n",
    "\n",
    "generated_emissions"
   ]
  },
  {
   "cell_type": "markdown",
   "metadata": {
    "pycharm": {
     "name": "#%% md\n"
    }
   },
   "source": [
    "## 2.1) Поиск наиболее вероятностной комбинации состояний.\n",
    "\n",
    "## Алгоритм Витерби"
   ]
  },
  {
   "cell_type": "code",
   "execution_count": 38,
   "metadata": {
    "pycharm": {
     "name": "#%%\n"
    }
   },
   "outputs": [
    {
     "data": {
      "text/plain": [
       "array([0, 0, 0, 0, 0, 0, 0, 0, 0, 0, 0, 0, 0, 0, 1, 0, 1, 1, 1, 1, 1, 1,\n",
       "       1, 0, 0, 0, 0, 0, 0, 0, 0, 0, 0, 0, 0, 0, 0, 0, 0, 0, 0, 0, 0, 0,\n",
       "       0, 0, 0, 0, 0, 0, 0, 0, 0, 0, 0, 0, 0, 0, 0, 0, 0, 0, 0, 0, 0, 0,\n",
       "       0, 0, 0, 0, 0, 0, 0, 0, 0, 0, 0, 0, 0, 0, 0, 0, 0, 0, 0, 0, 0, 0,\n",
       "       0, 0, 0, 0, 0, 0, 0, 0, 0, 0, 0, 0, 0, 0, 0, 0, 0, 0, 0, 0, 0, 0,\n",
       "       0, 0, 0, 0, 0, 0, 0, 0, 0, 0, 0, 0, 0, 0, 0, 1, 1, 0, 1, 1, 0, 0,\n",
       "       0, 0, 0, 0, 0, 0, 0, 0, 0, 0, 0, 0, 0, 0, 0, 0, 0, 0])"
      ]
     },
     "execution_count": 38,
     "metadata": {},
     "output_type": "execute_result"
    }
   ],
   "source": [
    "expected_states= np.zeros((L, M))\n",
    "\n",
    "# установим начальные значения\n",
    "# в первой строке сохраним произвдение вероятности эмиссии generated_emissions[0] i-го состояния и вероятности i-го состояния\n",
    "for i in range(M):\n",
    "    expected_states[0, i] = emissions_probab[i, generated_emissions[0]]*begin[i]\n",
    "\n",
    "for i in range(1, L):\n",
    "    for j in range(M):\n",
    "        state_max_probab=[]\n",
    "        # состояние j переходит в состояние j\n",
    "        # состояние [1,2,..,M] (без j) переходит в состояние j\n",
    "        for k in range(M):\n",
    "            state_max_probab.append(expected_states[i-1][k]*transitions_probab[k,j])\n",
    "\n",
    "        expected_states[i, j] = emissions_probab[j, generated_emissions[i]]*max(state_max_probab)\n",
    "\n",
    "\n",
    "viterbi = np.argmax(expected_states, axis = 1)\n",
    "viterbi"
   ]
  },
  {
   "cell_type": "markdown",
   "metadata": {
    "pycharm": {
     "name": "#%% md\n"
    }
   },
   "source": [
    "## 2.2) Визуализировать результат: построить на графике σ и σv (на оси x -позиция, на оси y - номер состояния\n"
   ]
  },
  {
   "cell_type": "code",
   "execution_count": 39,
   "metadata": {
    "pycharm": {
     "name": "#%%\n"
    }
   },
   "outputs": [
    {
     "data": {
      "image/png": "[encoded data removed]",
      "text/plain": [
       "<Figure size 432x288 with 1 Axes>"
      ]
     },
     "metadata": {
      "needs_background": "light"
     },
     "output_type": "display_data"
    }
   ],
   "source": [
    "steps = np.linspace(0, L, L)\n",
    "\n",
    "plt.ylabel('Transition state')\n",
    "plt.xlabel('L')\n",
    "plt.plot(steps, generated_hidden_states, label = 'HMM', color='g')\n",
    "plt.plot(steps, viterbi, '-.', label = 'Viterbi',color='b')\n",
    "plt.legend()\n",
    "plt.show()"
   ]
  },
  {
   "cell_type": "markdown",
   "metadata": {
    "pycharm": {
     "name": "#%% md\n"
    }
   },
   "source": [
    "### 3.1) Алгоритм прямого обхода"
   ]
  },
  {
   "cell_type": "code",
   "execution_count": 40,
   "metadata": {
    "pycharm": {
     "name": "#%%\n"
    }
   },
   "outputs": [],
   "source": [
    "def do_forward(M,L,transitions_probab,emissions_probab,begin,generated_emissions,generated_hidden_states):\n",
    "\n",
    "    # forward_states_probab = np.zeros((L, M))\n",
    "    #\n",
    "    # # далее зададим значение веротяностей состояний с учетом состояния эмиссии\n",
    "    # for j in range(M):\n",
    "    #     forward_states_probab[0, j] = emissions_probab[j, generated_hidden_states[0]]*begin[j]\n",
    "\n",
    "    forward_states_probab = np.zeros((L+1, M))\n",
    "    forward_states_probab[0] = begin\n",
    "\n",
    "    for j in range(M):\n",
    "        forward_states_probab[1, j] = emissions_probab[j, generated_hidden_states[0]]*begin[j]\n",
    "\n",
    "    for i in range(2, L+1):\n",
    "        for j in range(M):\n",
    "            probab=0\n",
    "            # переходит сам в себя\n",
    "            # состояние [1,2,..,M] (без j) переходит в состояние j\n",
    "            for k in range(M):\n",
    "                probab+= forward_states_probab[i-1][k]*transitions_probab[k,j]*emissions_probab[j, generated_emissions[i-1]]\n",
    "\n",
    "            forward_states_probab[i, j]=probab\n",
    "\n",
    "    return forward_states_probab"
   ]
  },
  {
   "cell_type": "code",
   "execution_count": 41,
   "metadata": {
    "pycharm": {
     "name": "#%%\n"
    }
   },
   "outputs": [
    {
     "name": "stdout",
     "output_type": "stream",
     "text": [
      "300\n"
     ]
    }
   ],
   "source": [
    "data=open('casino_emissions.txt').readlines()[0]\n",
    "test_casino=[]\n",
    "for char in data:\n",
    "    test_casino.append(int(char)-1)\n",
    "print(len(test_casino))"
   ]
  },
  {
   "cell_type": "code",
   "execution_count": 42,
   "metadata": {
    "pycharm": {
     "name": "#%%\n"
    }
   },
   "outputs": [
    {
     "name": "stdout",
     "output_type": "stream",
     "text": [
      "3.170640583456159e-225\n"
     ]
    }
   ],
   "source": [
    "res_fw = do_forward(M,300,transitions_probab,emissions_probab,begin,test_casino,generated_hidden_states)\n",
    "print(res_fw[-1].sum())\n",
    "# print(np.exp(res_fw[-1].sum()))"
   ]
  },
  {
   "cell_type": "code",
   "execution_count": 8,
   "metadata": {
    "pycharm": {
     "name": "#%%\n"
    }
   },
   "outputs": [
    {
     "ename": "NameError",
     "evalue": "name 'do_forward' is not defined",
     "output_type": "error",
     "traceback": [
      "\u001B[0;31m---------------------------------------------------------------------------\u001B[0m",
      "\u001B[0;31mNameError\u001B[0m                                 Traceback (most recent call last)",
      "Input \u001B[0;32mIn [8]\u001B[0m, in \u001B[0;36m<cell line: 1>\u001B[0;34m()\u001B[0m\n\u001B[0;32m----> 1\u001B[0m res_fw \u001B[38;5;241m=\u001B[39m \u001B[43mdo_forward\u001B[49m(M,L,transitions_probab,emissions_probab,begin,generated_emissions,generated_hidden_states)\n\u001B[1;32m      2\u001B[0m \u001B[38;5;28mprint\u001B[39m(res_fw[\u001B[38;5;241m-\u001B[39m\u001B[38;5;241m1\u001B[39m]\u001B[38;5;241m.\u001B[39msum())\n",
      "\u001B[0;31mNameError\u001B[0m: name 'do_forward' is not defined"
     ]
    }
   ],
   "source": [
    "res_fw = do_forward(M,L,transitions_probab,emissions_probab,begin,generated_emissions,generated_hidden_states)\n",
    "print(res_fw[-1].sum())\n",
    "# print(np.exp(res_fw[-1].sum()))"
   ]
  },
  {
   "cell_type": "markdown",
   "metadata": {
    "pycharm": {
     "name": "#%% md\n"
    }
   },
   "source": [
    "### 3.2) Алгоритм обратного обхода"
   ]
  },
  {
   "cell_type": "code",
   "execution_count": 43,
   "metadata": {
    "pycharm": {
     "name": "#%%\n"
    }
   },
   "outputs": [],
   "source": [
    "def do_backward(transitions_probab,emissions_probab,L, begin,generated_emissions):\n",
    "\n",
    "    backward_states_probab = np.zeros((L+1, M))\n",
    "    # backward_states_probab = np.zeros((L+1, M))\n",
    "\n",
    "    # backward_states_probab[L,:]=np.log(np.ones((M,)))\n",
    "    backward_states_probab[L,:]=np.ones((M,))\n",
    "\n",
    "    # for i in reversed(range(0,L)):\n",
    "    for i in range(L-1,-1,-1):\n",
    "        for j in range(M):\n",
    "            probab=0\n",
    "            # переходит сам в себя\n",
    "            # состояние [1,2,..,M] (без j) переходит в состояние j\n",
    "            for k in range(M):\n",
    "                probab+=backward_states_probab[i+1][k]*transitions_probab[j, k]*emissions_probab[j, generated_emissions[i]]\n",
    "\n",
    "            backward_states_probab[i, j]=probab\n",
    "\n",
    "    backward_states_probab[0]*=begin\n",
    "    # backward_states_probab[0]*=begin\n",
    "\n",
    "    return backward_states_probab"
   ]
  },
  {
   "cell_type": "code",
   "execution_count": 44,
   "metadata": {
    "pycharm": {
     "name": "#%%\n"
    }
   },
   "outputs": [
    {
     "name": "stdout",
     "output_type": "stream",
     "text": [
      "3.1706405834561605e-225\n"
     ]
    }
   ],
   "source": [
    "# на примере казино вероятности прямого и обратного прохода совпадают\n",
    "\n",
    "res_back = do_backward(transitions_probab,emissions_probab,300,begin,test_casino)\n",
    "print(res_back[0].sum())\n",
    "# print(np.exp(res_back[0].sum()))"
   ]
  },
  {
   "cell_type": "code",
   "execution_count": 66,
   "metadata": {
    "pycharm": {
     "name": "#%%\n"
    }
   },
   "outputs": [
    {
     "data": {
      "text/plain": "1.0068954341440903"
     },
     "execution_count": 66,
     "metadata": {},
     "output_type": "execute_result"
    }
   ],
   "source": [
    "i=212\n",
    "n=0\n",
    "for p in range(2):\n",
    "    n+=res_back[i,p]*res_fw[i,p]\n",
    "\n",
    "n/res_back[0].sum()"
   ]
  },
  {
   "cell_type": "code",
   "execution_count": 99,
   "metadata": {
    "pycharm": {
     "name": "#%%\n"
    }
   },
   "outputs": [
    {
     "name": "stdout",
     "output_type": "stream",
     "text": [
      "1.9968975543991816e-117\n"
     ]
    }
   ],
   "source": [
    "# на примере казино вероятности прямого и обратного прохода совпадают\n",
    "\n",
    "res_back = do_backward(transitions_probab,emissions_probab,L,begin,generated_emissions)\n",
    "print(res_back[0].sum())\n",
    "# print(np.exp(res_back[0].sum()))"
   ]
  },
  {
   "cell_type": "markdown",
   "metadata": {
    "pycharm": {
     "name": "#%% md\n"
    }
   },
   "source": [
    "### 4) Апостериорное декодирование\n",
    "\n",
    "Визуализировать результат: построить график P (state0|ε)(l)."
   ]
  },
  {
   "cell_type": "code",
   "execution_count": 49,
   "metadata": {
    "pycharm": {
     "name": "#%%\n"
    }
   },
   "outputs": [],
   "source": [
    "def aposterior_decoding(forward,backward,k,probab):\n",
    "    f_k=forward[:,k]\n",
    "    b_k=backward[:,k]\n",
    "    return (f_k*b_k)/probab"
   ]
  },
  {
   "cell_type": "code",
   "execution_count": 50,
   "metadata": {
    "pycharm": {
     "name": "#%%\n"
    }
   },
   "outputs": [
    {
     "name": "stdout",
     "output_type": "stream",
     "text": [
      "300\n"
     ]
    }
   ],
   "source": [
    "data=open('casino_states.txt').readlines()[0]\n",
    "test_casino=[]\n",
    "for char in data:\n",
    "    if char=='L':\n",
    "        test_casino.append(0)\n",
    "    if char=='F':\n",
    "        test_casino.append(1)\n",
    "\n",
    "print(len(test_casino))"
   ]
  },
  {
   "cell_type": "code",
   "execution_count": 51,
   "metadata": {
    "pycharm": {
     "name": "#%%\n"
    }
   },
   "outputs": [
    {
     "data": {
      "image/png": "[encoded data removed]",
      "text/plain": [
       "<Figure size 720x360 with 1 Axes>"
      ]
     },
     "metadata": {
      "needs_background": "light"
     },
     "output_type": "display_data"
    }
   ],
   "source": [
    "L=301\n",
    "x=range(L)\n",
    "k=0\n",
    "y=aposterior_decoding(res_fw, res_back,k,res_fw[-1].sum())\n",
    "plt.figure(figsize=(10,5))\n",
    "plt.plot(x[1:],test_casino,'-.',color='orange')\n",
    "plt.scatter(x,y,color='blue')\n",
    "plt.show()"
   ]
  },
  {
   "cell_type": "markdown",
   "metadata": {
    "pycharm": {
     "name": "#%% md\n"
    }
   },
   "source": [
    "### 5) Алгоритм Баума-Велша"
   ]
  }
 ],
 "metadata": {
  "kernelspec": {
   "display_name": "torch",
   "language": "python",
   "name": "torch"
  },
  "language_info": {
   "codemirror_mode": {
    "name": "ipython",
    "version": 3
   },
   "file_extension": ".py",
   "mimetype": "text/x-python",
   "name": "python",
   "nbconvert_exporter": "python",
   "pygments_lexer": "ipython3",
   "version": "3.9.13"
  }
 },
 "nbformat": 4,
 "nbformat_minor": 2
}